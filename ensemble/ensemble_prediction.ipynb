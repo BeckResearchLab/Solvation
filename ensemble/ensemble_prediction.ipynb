{
 "cells": [
  {
   "cell_type": "code",
   "execution_count": 1,
   "id": "844c0552",
   "metadata": {
    "scrolled": true
   },
   "outputs": [
    {
     "name": "stderr",
     "output_type": "stream",
     "text": [
      "2025-04-02 15:39:26.842299: I tensorflow/core/platform/cpu_feature_guard.cc:182] This TensorFlow binary is optimized to use available CPU instructions in performance-critical operations.\n",
      "To enable the following instructions: SSE4.1 SSE4.2 AVX AVX2 FMA, in other operations, rebuild TensorFlow with the appropriate compiler flags.\n"
     ]
    }
   ],
   "source": [
    "import os\n",
    "import sys \n",
    "import numpy as np\n",
    "from keras.models import load_model\n",
    "import gzip, pickle\n",
    "from torch_geometric.data import DataLoader\n",
    "import torch\n",
    "\n",
    "solvation_path = os.path.abspath(os.path.join(os.path.abspath(''), \"../pnnlsolpaper\"))\n",
    "sys.path.append(solvation_path)\n",
    "\n",
    "import smi\n",
    "import mdm\n",
    "import gnn\n",
    "import matplotlib.pyplot as plt\n",
    "from sklearn.metrics import r2_score, mean_squared_error, mean_absolute_error\n",
    "from scipy.stats import spearmanr\n",
    "import pandas as pd\n",
    "from rdkit import Chem\n",
    "from rdkit.Chem import AllChem\n",
    "from rdkit import DataStructs\n",
    "from sklearn.cluster import KMeans\n",
    "import ipywidgets as widgets\n",
    "from IPython.display import display\n",
    "import seaborn as sns\n"
   ]
  },
  {
   "cell_type": "markdown",
   "id": "38e02d5b-27c1-42a0-8cfd-bc54cff294b2",
   "metadata": {},
   "source": [
    "## loading models and their data, prediction from individual models "
   ]
  },
  {
   "cell_type": "code",
   "execution_count": 2,
   "id": "20b3fe03",
   "metadata": {},
   "outputs": [
    {
     "ename": "FileNotFoundError",
     "evalue": "[Errno 2] No such file or directory: './data/train.pkl.gz'",
     "output_type": "error",
     "traceback": [
      "\u001b[0;31m---------------------------------------------------------------------------\u001b[0m",
      "\u001b[0;31mFileNotFoundError\u001b[0m                         Traceback (most recent call last)",
      "Cell \u001b[0;32mIn[2], line 7\u001b[0m\n\u001b[1;32m      4\u001b[0m path \u001b[38;5;241m=\u001b[39m os\u001b[38;5;241m.\u001b[39mpath\u001b[38;5;241m.\u001b[39mjoin(\u001b[38;5;124m'\u001b[39m\u001b[38;5;124m./data/\u001b[39m\u001b[38;5;124m'\u001b[39m)\n\u001b[1;32m      6\u001b[0m \u001b[38;5;66;03m# load data\u001b[39;00m\n\u001b[0;32m----> 7\u001b[0m \u001b[38;5;28;01mwith\u001b[39;00m \u001b[43mgzip\u001b[49m\u001b[38;5;241;43m.\u001b[39;49m\u001b[43mopen\u001b[49m\u001b[43m(\u001b[49m\u001b[43mpath\u001b[49m\u001b[38;5;241;43m+\u001b[39;49m\u001b[38;5;124;43m\"\u001b[39;49m\u001b[38;5;124;43mtrain.pkl.gz\u001b[39;49m\u001b[38;5;124;43m\"\u001b[39;49m\u001b[43m,\u001b[49m\u001b[43m \u001b[49m\u001b[38;5;124;43m\"\u001b[39;49m\u001b[38;5;124;43mrb\u001b[39;49m\u001b[38;5;124;43m\"\u001b[39;49m\u001b[43m)\u001b[49m \u001b[38;5;28;01mas\u001b[39;00m f:\n\u001b[1;32m      8\u001b[0m     train_X \u001b[38;5;241m=\u001b[39m pickle\u001b[38;5;241m.\u001b[39mload(f)\n\u001b[1;32m      9\u001b[0m \u001b[38;5;28;01mwith\u001b[39;00m gzip\u001b[38;5;241m.\u001b[39mopen(path\u001b[38;5;241m+\u001b[39m\u001b[38;5;124m\"\u001b[39m\u001b[38;5;124mval.pkl.gz\u001b[39m\u001b[38;5;124m\"\u001b[39m, \u001b[38;5;124m\"\u001b[39m\u001b[38;5;124mrb\u001b[39m\u001b[38;5;124m\"\u001b[39m) \u001b[38;5;28;01mas\u001b[39;00m f:\n",
      "File \u001b[0;32m~/miniforge3/envs/myenv/lib/python3.10/gzip.py:58\u001b[0m, in \u001b[0;36mopen\u001b[0;34m(filename, mode, compresslevel, encoding, errors, newline)\u001b[0m\n\u001b[1;32m     56\u001b[0m gz_mode \u001b[38;5;241m=\u001b[39m mode\u001b[38;5;241m.\u001b[39mreplace(\u001b[38;5;124m\"\u001b[39m\u001b[38;5;124mt\u001b[39m\u001b[38;5;124m\"\u001b[39m, \u001b[38;5;124m\"\u001b[39m\u001b[38;5;124m\"\u001b[39m)\n\u001b[1;32m     57\u001b[0m \u001b[38;5;28;01mif\u001b[39;00m \u001b[38;5;28misinstance\u001b[39m(filename, (\u001b[38;5;28mstr\u001b[39m, \u001b[38;5;28mbytes\u001b[39m, os\u001b[38;5;241m.\u001b[39mPathLike)):\n\u001b[0;32m---> 58\u001b[0m     binary_file \u001b[38;5;241m=\u001b[39m \u001b[43mGzipFile\u001b[49m\u001b[43m(\u001b[49m\u001b[43mfilename\u001b[49m\u001b[43m,\u001b[49m\u001b[43m \u001b[49m\u001b[43mgz_mode\u001b[49m\u001b[43m,\u001b[49m\u001b[43m \u001b[49m\u001b[43mcompresslevel\u001b[49m\u001b[43m)\u001b[49m\n\u001b[1;32m     59\u001b[0m \u001b[38;5;28;01melif\u001b[39;00m \u001b[38;5;28mhasattr\u001b[39m(filename, \u001b[38;5;124m\"\u001b[39m\u001b[38;5;124mread\u001b[39m\u001b[38;5;124m\"\u001b[39m) \u001b[38;5;129;01mor\u001b[39;00m \u001b[38;5;28mhasattr\u001b[39m(filename, \u001b[38;5;124m\"\u001b[39m\u001b[38;5;124mwrite\u001b[39m\u001b[38;5;124m\"\u001b[39m):\n\u001b[1;32m     60\u001b[0m     binary_file \u001b[38;5;241m=\u001b[39m GzipFile(\u001b[38;5;28;01mNone\u001b[39;00m, gz_mode, compresslevel, filename)\n",
      "File \u001b[0;32m~/miniforge3/envs/myenv/lib/python3.10/gzip.py:174\u001b[0m, in \u001b[0;36mGzipFile.__init__\u001b[0;34m(self, filename, mode, compresslevel, fileobj, mtime)\u001b[0m\n\u001b[1;32m    172\u001b[0m     mode \u001b[38;5;241m+\u001b[39m\u001b[38;5;241m=\u001b[39m \u001b[38;5;124m'\u001b[39m\u001b[38;5;124mb\u001b[39m\u001b[38;5;124m'\u001b[39m\n\u001b[1;32m    173\u001b[0m \u001b[38;5;28;01mif\u001b[39;00m fileobj \u001b[38;5;129;01mis\u001b[39;00m \u001b[38;5;28;01mNone\u001b[39;00m:\n\u001b[0;32m--> 174\u001b[0m     fileobj \u001b[38;5;241m=\u001b[39m \u001b[38;5;28mself\u001b[39m\u001b[38;5;241m.\u001b[39mmyfileobj \u001b[38;5;241m=\u001b[39m \u001b[43mbuiltins\u001b[49m\u001b[38;5;241;43m.\u001b[39;49m\u001b[43mopen\u001b[49m\u001b[43m(\u001b[49m\u001b[43mfilename\u001b[49m\u001b[43m,\u001b[49m\u001b[43m \u001b[49m\u001b[43mmode\u001b[49m\u001b[43m \u001b[49m\u001b[38;5;129;43;01mor\u001b[39;49;00m\u001b[43m \u001b[49m\u001b[38;5;124;43m'\u001b[39;49m\u001b[38;5;124;43mrb\u001b[39;49m\u001b[38;5;124;43m'\u001b[39;49m\u001b[43m)\u001b[49m\n\u001b[1;32m    175\u001b[0m \u001b[38;5;28;01mif\u001b[39;00m filename \u001b[38;5;129;01mis\u001b[39;00m \u001b[38;5;28;01mNone\u001b[39;00m:\n\u001b[1;32m    176\u001b[0m     filename \u001b[38;5;241m=\u001b[39m \u001b[38;5;28mgetattr\u001b[39m(fileobj, \u001b[38;5;124m'\u001b[39m\u001b[38;5;124mname\u001b[39m\u001b[38;5;124m'\u001b[39m, \u001b[38;5;124m'\u001b[39m\u001b[38;5;124m'\u001b[39m)\n",
      "\u001b[0;31mFileNotFoundError\u001b[0m: [Errno 2] No such file or directory: './data/train.pkl.gz'"
     ]
    }
   ],
   "source": [
    "# Loading gnn model , data loader , and creating predictions \n",
    "\n",
    "# Defining a path using os.path\n",
    "path = os.path.join('./data/')\n",
    "\n",
    "# load data\n",
    "with gzip.open(path+\"train.pkl.gz\", \"rb\") as f:\n",
    "    train_X = pickle.load(f)\n",
    "with gzip.open(path+\"val.pkl.gz\", \"rb\") as f:\n",
    "    val_X = pickle.load(f)\n",
    "with gzip.open(path+\"test.pkl.gz\", \"rb\") as f:\n",
    "    test_X = pickle.load(f)\n",
    "bs = gnn.config.bs\n",
    "\n",
    "test_loader = DataLoader(test_X, batch_size=bs, shuffle=False, drop_last=False)\n",
    "\n",
    "\n",
    "device = torch.device('cuda' if torch.cuda.is_available() else 'cpu')\n",
    "model = gnn.gnn_model.GNN(n_features = gnn.config.n_features).to(device)\n",
    "model.load_state_dict(torch.load(gnn.config.best_model ))\n",
    "\n",
    "_, gnn_pred = gnn.gnn_utils.test_fn_plotting(test_loader, model, device)"
   ]
  },
  {
   "cell_type": "code",
   "execution_count": null,
   "id": "6ef5da63",
   "metadata": {},
   "outputs": [],
   "source": [
    "# Loading smi model , smi_x test and creating predictions\n",
    "smi_x_tes = np.loadtxt(\"./data/x_test.txt\")\n",
    "smi_model = load_model(smi.config.best_model)\n",
    "smi_pred = smi_model.predict(smi_x_tes).ravel()\n",
    "\n",
    "# Loading mdm model, mdm_x_test and creating predictions\n",
    "mdm_x_test = np.loadtxt(\"./data/x_test.txt\")\n",
    "mdm_model = load_model(mdm.config.best_model)\n",
    "mdm_pred = mdm_model.predict(mdm_x_test).reshape(-1,)\n",
    "\n",
    "# loading y_test, y from all models is identical, using mdm for convenience \n",
    "y_test = np.loadtxt(\"./data/y_test.txt\")"
   ]
  },
  {
   "cell_type": "markdown",
   "id": "eb0d31c2-56c6-4ab8-8fc2-f993e2c9dac0",
   "metadata": {},
   "source": [
    "## Ensembling and graphing all predictions "
   ]
  },
  {
   "cell_type": "code",
   "execution_count": null,
   "id": "a3c5ba94-9573-4858-9a13-32b66ef23c18",
   "metadata": {},
   "outputs": [],
   "source": [
    "w_gnn = 0.5948275422718199\n",
    "w_mdm = 0.9463097878036206\n",
    "w_smi = 0.33177489589161224\n",
    "sum= w_gnn+w_mdm + w_smi\n",
    "nw_gnn = w_gnn/sum\n",
    "nw_mdm = w_mdm/sum\n",
    "nw_smi = w_smi/sum\n",
    "CV_pred = (nw_gnn * gnn_pred) + (nw_mdm * mdm_pred) + (nw_smi * smi_pred)"
   ]
  },
  {
   "cell_type": "code",
   "execution_count": null,
   "id": "05133849-ce4f-4db7-915c-9b8868b5b544",
   "metadata": {},
   "outputs": [],
   "source": [
    "weight_gnn = 0.6306445985729451\n",
    "weight_mdm =0.7775387543020923\n",
    "weight_smi = 0.4295662789522257\n",
    "\n",
    "sum_optuna= weight_gnn + weight_mdm + weight_smi\n",
    "nognn= weight_gnn/ sum_optuna \n",
    "nomdm = weight_mdm / sum_optuna\n",
    "nosmi = weight_smi / sum_optuna\n",
    "optuna_pred = (nognn * gnn_pred) + (nomdm * mdm_pred) + (nosmi * smi_pred)"
   ]
  },
  {
   "cell_type": "code",
   "execution_count": null,
   "id": "7028e255-605d-4b1b-9cd5-61d81dd36ee8",
   "metadata": {},
   "outputs": [],
   "source": [
    "avg_pred = (gnn_pred+ mdm_pred + smi_pred)/3"
   ]
  },
  {
   "cell_type": "code",
   "execution_count": null,
   "id": "1a75de60-c8e2-42ef-b9d3-149ddf495171",
   "metadata": {},
   "outputs": [],
   "source": [
    "\n",
    "def evaluate_predictions(y_test, **model_predictions):\n",
    "    metrics = {}\n",
    "    for model_name, predictions in model_predictions.items():\n",
    "        r2 = r2_score(y_true=y_test, y_pred=predictions)\n",
    "        rmse = mean_squared_error(y_true=y_test, y_pred=predictions, squared=False)\n",
    "        sp = spearmanr(predictions, y_test)[0]\n",
    "        mae = mean_absolute_error(y_true=y_test, y_pred=predictions)\n",
    "        \n",
    "        metrics[model_name] = {\n",
    "            'R2': r2,\n",
    "            'RMSE': rmse,\n",
    "            'Spearman': sp,\n",
    "            'MAE': mae\n",
    "        }\n",
    "        \n",
    "        # Plotting\n",
    "        plt.figure(figsize=(8, 6))\n",
    "        plt.scatter(y_test, predictions, alpha=0.5, label=f'{model_name} Predictions')\n",
    "        plt.title(f'Prediction vs True Value - {model_name}')\n",
    "        plt.xlabel('True Values Log(S)')\n",
    "        plt.ylabel('Predicted Values Log(S)')\n",
    "        plt.plot([-3, 3], [-3, 3], 'r--')  # Adding a reference line\n",
    "        plt.grid(True)\n",
    "        plt.legend()\n",
    "        plt.show()\n",
    "        \n",
    "        print(f\"Metrics for {model_name}:\")\n",
    "        print(f\"R2: {r2:.4f}\")\n",
    "        print(f\"Spearman: {sp:.4f}\")\n",
    "        print(f\"RMSE: {rmse:.4f}\")\n",
    "        print(f\"MAE: {mae:.4f}\")\n",
    "        print(\"\\n\")\n",
    "\n",
    "    return metrics\n",
    "\n",
    "\n",
    "results = evaluate_predictions(y_test, smi_pred=smi_pred, mdm_pred=mdm_pred, gnn_pred=gnn_pred , avg_pred=avg_pred, CV_pred=CV_pred  , optuna_pred = optuna_pred)"
   ]
  },
  {
   "cell_type": "code",
   "execution_count": null,
   "id": "984e61a2-1c7a-4268-bb59-d6f02075e441",
   "metadata": {},
   "outputs": [],
   "source": [
    "import matplotlib.pyplot as plt\n",
    "from sklearn.metrics import r2_score, mean_squared_error, mean_absolute_error\n",
    "from scipy.stats import spearmanr\n",
    "\n",
    "def evaluate_predictions(y_test, **model_predictions):\n",
    "    metrics = {}\n",
    "    for model_name, predictions in model_predictions.items():\n",
    "        r2 = r2_score(y_true=y_test, y_pred=predictions)\n",
    "        rmse = mean_squared_error(y_true=y_test, y_pred=predictions, squared=False)\n",
    "        sp = spearmanr(predictions, y_test)[0]\n",
    "        mae = mean_absolute_error(y_true=y_test, y_pred=predictions)\n",
    "        \n",
    "        metrics[model_name] = {\n",
    "            'R2': r2,\n",
    "            'RMSE': rmse,\n",
    "            'Spearman': sp,\n",
    "            'MAE': mae\n",
    "        }\n",
    "        \n",
    "\n",
    "    return metrics\n",
    "\n",
    "def plot_predictions(y_test, model_predictions, layout, figsize=(18, 6)):\n",
    "    fig, axes = plt.subplots(layout[0], layout[1], figsize=figsize)\n",
    "    axes = axes.flatten()\n",
    "    for i, (model_name, predictions) in enumerate(model_predictions.items()):\n",
    "        axes[i].scatter(y_test, predictions, alpha=0.5, label=f'{model_name} Predictions')\n",
    "        axes[i].plot([-16, 10], [-16, 10], 'r--')  # Extending the reference line\n",
    "        axes[i].set_title(f'Prediction vs Expiremntal Value - {model_name}')\n",
    "        axes[i].set_xlabel('Expiremntal Values Log(S)')\n",
    "        axes[i].set_ylabel('Predicted Values Log(S)')\n",
    "        axes[i].set_xlim(-16, 10)\n",
    "        axes[i].set_ylim(-16, 10)\n",
    "        axes[i].set_aspect('equal', adjustable='box')\n",
    "        axes[i].grid(True)\n",
    "        axes[i].legend()\n",
    "    plt.tight_layout()\n",
    "    plt.show()\n",
    "\n",
    "# Evaluate predictions\n",
    "results = evaluate_predictions(y_test, smi_pred=smi_pred, mdm_pred=mdm_pred, gnn_pred=gnn_pred, avg_pred=avg_pred, CV_pred=CV_pred, optuna_pred=optuna_pred)\n",
    "\n",
    "# Plot the first set of predictions (3-column, 1-row layout)\n",
    "plot_predictions(y_test, {'SMI': smi_pred, 'MDM': mdm_pred, 'GNN': gnn_pred}, layout=(1, 3))\n",
    "\n",
    "# Plot the second set of predictions (2-column, 1-row layout)\n",
    "plot_predictions(y_test, {'Simple Average': avg_pred, 'CV with Optuna': CV_pred, 'Optuna': optuna_pred}, layout=(1, 3))\n"
   ]
  }
 ],
 "metadata": {
  "kernelspec": {
   "display_name": "Python 3 (ipykernel)",
   "language": "python",
   "name": "python3"
  },
  "language_info": {
   "codemirror_mode": {
    "name": "ipython",
    "version": 3
   },
   "file_extension": ".py",
   "mimetype": "text/x-python",
   "name": "python",
   "nbconvert_exporter": "python",
   "pygments_lexer": "ipython3",
   "version": "3.10.13"
  }
 },
 "nbformat": 4,
 "nbformat_minor": 5
}
